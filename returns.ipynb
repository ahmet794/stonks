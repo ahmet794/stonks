{
 "cells": [
  {
   "cell_type": "code",
   "execution_count": 26,
   "metadata": {},
   "outputs": [],
   "source": [
    "import pandas as pd\n",
    "import numpy as np\n",
    "import yfinance as yf\n",
    "import risk_kit as rk"
   ]
  },
  {
   "cell_type": "code",
   "execution_count": 4,
   "metadata": {},
   "outputs": [
    {
     "name": "stdout",
     "output_type": "stream",
     "text": [
      "[*********************100%***********************]  1 of 1 completed\n"
     ]
    },
    {
     "data": {
      "text/html": [
       "<div>\n",
       "<style scoped>\n",
       "    .dataframe tbody tr th:only-of-type {\n",
       "        vertical-align: middle;\n",
       "    }\n",
       "\n",
       "    .dataframe tbody tr th {\n",
       "        vertical-align: top;\n",
       "    }\n",
       "\n",
       "    .dataframe thead th {\n",
       "        text-align: right;\n",
       "    }\n",
       "</style>\n",
       "<table border=\"1\" class=\"dataframe\">\n",
       "  <thead>\n",
       "    <tr style=\"text-align: right;\">\n",
       "      <th></th>\n",
       "      <th>Open</th>\n",
       "      <th>High</th>\n",
       "      <th>Low</th>\n",
       "      <th>Close</th>\n",
       "      <th>Adj Close</th>\n",
       "      <th>Volume</th>\n",
       "    </tr>\n",
       "    <tr>\n",
       "      <th>Date</th>\n",
       "      <th></th>\n",
       "      <th></th>\n",
       "      <th></th>\n",
       "      <th></th>\n",
       "      <th></th>\n",
       "      <th></th>\n",
       "    </tr>\n",
       "  </thead>\n",
       "  <tbody>\n",
       "    <tr>\n",
       "      <th>2023-01-03</th>\n",
       "      <td>148.509995</td>\n",
       "      <td>149.960007</td>\n",
       "      <td>140.960007</td>\n",
       "      <td>143.149994</td>\n",
       "      <td>143.110870</td>\n",
       "      <td>40127700</td>\n",
       "    </tr>\n",
       "    <tr>\n",
       "      <th>2023-01-04</th>\n",
       "      <td>145.669998</td>\n",
       "      <td>148.529999</td>\n",
       "      <td>142.410004</td>\n",
       "      <td>147.490005</td>\n",
       "      <td>147.449707</td>\n",
       "      <td>43132400</td>\n",
       "    </tr>\n",
       "    <tr>\n",
       "      <th>2023-01-05</th>\n",
       "      <td>144.910004</td>\n",
       "      <td>145.639999</td>\n",
       "      <td>141.479996</td>\n",
       "      <td>142.649994</td>\n",
       "      <td>142.611023</td>\n",
       "      <td>38916800</td>\n",
       "    </tr>\n",
       "    <tr>\n",
       "      <th>2023-01-06</th>\n",
       "      <td>144.740005</td>\n",
       "      <td>150.100006</td>\n",
       "      <td>140.339996</td>\n",
       "      <td>148.589996</td>\n",
       "      <td>148.549393</td>\n",
       "      <td>40504400</td>\n",
       "    </tr>\n",
       "    <tr>\n",
       "      <th>2023-01-09</th>\n",
       "      <td>152.839996</td>\n",
       "      <td>160.559998</td>\n",
       "      <td>151.410004</td>\n",
       "      <td>156.279999</td>\n",
       "      <td>156.237289</td>\n",
       "      <td>50423100</td>\n",
       "    </tr>\n",
       "    <tr>\n",
       "      <th>...</th>\n",
       "      <td>...</td>\n",
       "      <td>...</td>\n",
       "      <td>...</td>\n",
       "      <td>...</td>\n",
       "      <td>...</td>\n",
       "      <td>...</td>\n",
       "    </tr>\n",
       "    <tr>\n",
       "      <th>2023-07-24</th>\n",
       "      <td>447.309998</td>\n",
       "      <td>451.089996</td>\n",
       "      <td>440.399994</td>\n",
       "      <td>446.119995</td>\n",
       "      <td>446.119995</td>\n",
       "      <td>38251600</td>\n",
       "    </tr>\n",
       "    <tr>\n",
       "      <th>2023-07-25</th>\n",
       "      <td>449.410004</td>\n",
       "      <td>461.829987</td>\n",
       "      <td>449.230011</td>\n",
       "      <td>456.790009</td>\n",
       "      <td>456.790009</td>\n",
       "      <td>34808100</td>\n",
       "    </tr>\n",
       "    <tr>\n",
       "      <th>2023-07-26</th>\n",
       "      <td>460.209991</td>\n",
       "      <td>460.529999</td>\n",
       "      <td>446.299988</td>\n",
       "      <td>454.519989</td>\n",
       "      <td>454.519989</td>\n",
       "      <td>36423700</td>\n",
       "    </tr>\n",
       "    <tr>\n",
       "      <th>2023-07-27</th>\n",
       "      <td>465.190002</td>\n",
       "      <td>473.950012</td>\n",
       "      <td>457.500000</td>\n",
       "      <td>459.000000</td>\n",
       "      <td>459.000000</td>\n",
       "      <td>45597600</td>\n",
       "    </tr>\n",
       "    <tr>\n",
       "      <th>2023-07-28</th>\n",
       "      <td>466.679993</td>\n",
       "      <td>470.269989</td>\n",
       "      <td>463.809998</td>\n",
       "      <td>467.500000</td>\n",
       "      <td>467.500000</td>\n",
       "      <td>33119400</td>\n",
       "    </tr>\n",
       "  </tbody>\n",
       "</table>\n",
       "<p>143 rows × 6 columns</p>\n",
       "</div>"
      ],
      "text/plain": [
       "                  Open        High         Low       Close   Adj Close  \\\n",
       "Date                                                                     \n",
       "2023-01-03  148.509995  149.960007  140.960007  143.149994  143.110870   \n",
       "2023-01-04  145.669998  148.529999  142.410004  147.490005  147.449707   \n",
       "2023-01-05  144.910004  145.639999  141.479996  142.649994  142.611023   \n",
       "2023-01-06  144.740005  150.100006  140.339996  148.589996  148.549393   \n",
       "2023-01-09  152.839996  160.559998  151.410004  156.279999  156.237289   \n",
       "...                ...         ...         ...         ...         ...   \n",
       "2023-07-24  447.309998  451.089996  440.399994  446.119995  446.119995   \n",
       "2023-07-25  449.410004  461.829987  449.230011  456.790009  456.790009   \n",
       "2023-07-26  460.209991  460.529999  446.299988  454.519989  454.519989   \n",
       "2023-07-27  465.190002  473.950012  457.500000  459.000000  459.000000   \n",
       "2023-07-28  466.679993  470.269989  463.809998  467.500000  467.500000   \n",
       "\n",
       "              Volume  \n",
       "Date                  \n",
       "2023-01-03  40127700  \n",
       "2023-01-04  43132400  \n",
       "2023-01-05  38916800  \n",
       "2023-01-06  40504400  \n",
       "2023-01-09  50423100  \n",
       "...              ...  \n",
       "2023-07-24  38251600  \n",
       "2023-07-25  34808100  \n",
       "2023-07-26  36423700  \n",
       "2023-07-27  45597600  \n",
       "2023-07-28  33119400  \n",
       "\n",
       "[143 rows x 6 columns]"
      ]
     },
     "execution_count": 4,
     "metadata": {},
     "output_type": "execute_result"
    }
   ],
   "source": [
    "ticker = 'NVDA'\n",
    "\n",
    "stock_data = yf.download(ticker, start = '2023-01-01', end = \"2023-07-31\")\n",
    "stock_data"
   ]
  },
  {
   "cell_type": "code",
   "execution_count": 5,
   "metadata": {},
   "outputs": [],
   "source": [
    "monthly_returns = stock_data['Adj Close'].resample('M').ffill().pct_change()\n",
    "monthly_returns.dropna(inplace = True)"
   ]
  },
  {
   "cell_type": "code",
   "execution_count": 6,
   "metadata": {},
   "outputs": [
    {
     "data": {
      "text/plain": [
       "Date\n",
       "2023-02-28    0.188309\n",
       "2023-03-31    0.196662\n",
       "2023-04-30   -0.001008\n",
       "2023-05-31    0.363437\n",
       "2023-06-30    0.118211\n",
       "2023-07-31    0.105149\n",
       "Freq: M, Name: Adj Close, dtype: float64"
      ]
     },
     "execution_count": 6,
     "metadata": {},
     "output_type": "execute_result"
    }
   ],
   "source": [
    "monthly_returns"
   ]
  },
  {
   "cell_type": "code",
   "execution_count": 7,
   "metadata": {},
   "outputs": [
    {
     "data": {
      "text/plain": [
       "Date\n",
       "2023-01-03    143.110870\n",
       "2023-01-04    147.449707\n",
       "2023-01-05    142.611023\n",
       "2023-01-06    148.549393\n",
       "2023-01-09    156.237289\n",
       "                 ...    \n",
       "2023-07-24    446.119995\n",
       "2023-07-25    456.790009\n",
       "2023-07-26    454.519989\n",
       "2023-07-27    459.000000\n",
       "2023-07-28    467.500000\n",
       "Name: Adj Close, Length: 143, dtype: float64"
      ]
     },
     "execution_count": 7,
     "metadata": {},
     "output_type": "execute_result"
    }
   ],
   "source": [
    "adj_close = stock_data['Adj Close']\n",
    "shares_outstanding = 247\n",
    "\n",
    "monthly_market_caps = adj_close * shares_outstanding\n",
    "adj_close"
   ]
  },
  {
   "cell_type": "code",
   "execution_count": 8,
   "metadata": {},
   "outputs": [
    {
     "data": {
      "text/plain": [
       "Date\n",
       "2023-01-03     35348.384979\n",
       "2023-01-04     36420.077637\n",
       "2023-01-05     35224.922668\n",
       "2023-01-06     36691.699997\n",
       "2023-01-09     38590.610489\n",
       "                  ...      \n",
       "2023-07-24    110191.638794\n",
       "2023-07-25    112827.132111\n",
       "2023-07-26    112266.437286\n",
       "2023-07-27    113373.000000\n",
       "2023-07-28    115472.500000\n",
       "Name: Adj Close, Length: 143, dtype: float64"
      ]
     },
     "execution_count": 8,
     "metadata": {},
     "output_type": "execute_result"
    }
   ],
   "source": [
    "monthly_market_caps"
   ]
  },
  {
   "cell_type": "code",
   "execution_count": 9,
   "metadata": {},
   "outputs": [
    {
     "name": "stdout",
     "output_type": "stream",
     "text": [
      "[*********************100%***********************]  1 of 1 completed\n",
      "[*********************100%***********************]  1 of 1 completed\n",
      "[*********************100%***********************]  1 of 1 completed\n",
      "[*********************100%***********************]  1 of 1 completed\n"
     ]
    },
    {
     "data": {
      "text/html": [
       "<div>\n",
       "<style scoped>\n",
       "    .dataframe tbody tr th:only-of-type {\n",
       "        vertical-align: middle;\n",
       "    }\n",
       "\n",
       "    .dataframe tbody tr th {\n",
       "        vertical-align: top;\n",
       "    }\n",
       "\n",
       "    .dataframe thead th {\n",
       "        text-align: right;\n",
       "    }\n",
       "</style>\n",
       "<table border=\"1\" class=\"dataframe\">\n",
       "  <thead>\n",
       "    <tr style=\"text-align: right;\">\n",
       "      <th></th>\n",
       "      <th>AAPL</th>\n",
       "      <th>MSFT</th>\n",
       "      <th>GOOGL</th>\n",
       "      <th>AMZN</th>\n",
       "    </tr>\n",
       "    <tr>\n",
       "      <th>Date</th>\n",
       "      <th></th>\n",
       "      <th></th>\n",
       "      <th></th>\n",
       "      <th></th>\n",
       "    </tr>\n",
       "  </thead>\n",
       "  <tbody>\n",
       "    <tr>\n",
       "      <th>1995-01-31</th>\n",
       "      <td>NaN</td>\n",
       "      <td>NaN</td>\n",
       "      <td>NaN</td>\n",
       "      <td>NaN</td>\n",
       "    </tr>\n",
       "    <tr>\n",
       "      <th>1995-02-28</th>\n",
       "      <td>-0.018981</td>\n",
       "      <td>0.061052</td>\n",
       "      <td>NaN</td>\n",
       "      <td>NaN</td>\n",
       "    </tr>\n",
       "    <tr>\n",
       "      <th>1995-03-31</th>\n",
       "      <td>-0.107597</td>\n",
       "      <td>0.128969</td>\n",
       "      <td>NaN</td>\n",
       "      <td>NaN</td>\n",
       "    </tr>\n",
       "    <tr>\n",
       "      <th>1995-04-30</th>\n",
       "      <td>0.085107</td>\n",
       "      <td>0.149386</td>\n",
       "      <td>NaN</td>\n",
       "      <td>NaN</td>\n",
       "    </tr>\n",
       "    <tr>\n",
       "      <th>1995-05-31</th>\n",
       "      <td>0.089615</td>\n",
       "      <td>0.035932</td>\n",
       "      <td>NaN</td>\n",
       "      <td>NaN</td>\n",
       "    </tr>\n",
       "    <tr>\n",
       "      <th>...</th>\n",
       "      <td>...</td>\n",
       "      <td>...</td>\n",
       "      <td>...</td>\n",
       "      <td>...</td>\n",
       "    </tr>\n",
       "    <tr>\n",
       "      <th>2023-03-31</th>\n",
       "      <td>0.118649</td>\n",
       "      <td>0.155882</td>\n",
       "      <td>0.151788</td>\n",
       "      <td>0.096148</td>\n",
       "    </tr>\n",
       "    <tr>\n",
       "      <th>2023-04-30</th>\n",
       "      <td>0.028987</td>\n",
       "      <td>0.065765</td>\n",
       "      <td>0.034802</td>\n",
       "      <td>0.020912</td>\n",
       "    </tr>\n",
       "    <tr>\n",
       "      <th>2023-05-31</th>\n",
       "      <td>0.046058</td>\n",
       "      <td>0.071106</td>\n",
       "      <td>0.144681</td>\n",
       "      <td>0.143480</td>\n",
       "    </tr>\n",
       "    <tr>\n",
       "      <th>2023-06-30</th>\n",
       "      <td>0.094330</td>\n",
       "      <td>0.036999</td>\n",
       "      <td>-0.025800</td>\n",
       "      <td>0.081108</td>\n",
       "    </tr>\n",
       "    <tr>\n",
       "      <th>2023-07-31</th>\n",
       "      <td>0.009589</td>\n",
       "      <td>-0.006372</td>\n",
       "      <td>0.107602</td>\n",
       "      <td>0.014192</td>\n",
       "    </tr>\n",
       "  </tbody>\n",
       "</table>\n",
       "<p>343 rows × 4 columns</p>\n",
       "</div>"
      ],
      "text/plain": [
       "                AAPL      MSFT     GOOGL      AMZN\n",
       "Date                                              \n",
       "1995-01-31       NaN       NaN       NaN       NaN\n",
       "1995-02-28 -0.018981  0.061052       NaN       NaN\n",
       "1995-03-31 -0.107597  0.128969       NaN       NaN\n",
       "1995-04-30  0.085107  0.149386       NaN       NaN\n",
       "1995-05-31  0.089615  0.035932       NaN       NaN\n",
       "...              ...       ...       ...       ...\n",
       "2023-03-31  0.118649  0.155882  0.151788  0.096148\n",
       "2023-04-30  0.028987  0.065765  0.034802  0.020912\n",
       "2023-05-31  0.046058  0.071106  0.144681  0.143480\n",
       "2023-06-30  0.094330  0.036999 -0.025800  0.081108\n",
       "2023-07-31  0.009589 -0.006372  0.107602  0.014192\n",
       "\n",
       "[343 rows x 4 columns]"
      ]
     },
     "execution_count": 9,
     "metadata": {},
     "output_type": "execute_result"
    }
   ],
   "source": [
    "stock_tickers = ['AAPL', 'MSFT', 'GOOGL', 'AMZN']\n",
    "\n",
    "start_date = '1995-01-01'\n",
    "end_date = '2023-07-31'\n",
    "\n",
    "# Fetch data and calculate monthly returns\n",
    "returns = pd.DataFrame()\n",
    "\n",
    "for ticker in stock_tickers:\n",
    "    data = yf.download(ticker, start=start_date, end=end_date)\n",
    "    data = data['Adj Close'].resample('M').ffill().pct_change()\n",
    "    returns[ticker] = data\n",
    "\n",
    "# Drop the first row since it will have NaN value (due to pct_change calculation)\n",
    "returns"
   ]
  },
  {
   "cell_type": "code",
   "execution_count": 10,
   "metadata": {},
   "outputs": [
    {
     "data": {
      "text/html": [
       "<div>\n",
       "<style scoped>\n",
       "    .dataframe tbody tr th:only-of-type {\n",
       "        vertical-align: middle;\n",
       "    }\n",
       "\n",
       "    .dataframe tbody tr th {\n",
       "        vertical-align: top;\n",
       "    }\n",
       "\n",
       "    .dataframe thead th {\n",
       "        text-align: right;\n",
       "    }\n",
       "</style>\n",
       "<table border=\"1\" class=\"dataframe\">\n",
       "  <thead>\n",
       "    <tr style=\"text-align: right;\">\n",
       "      <th></th>\n",
       "      <th>AAPL</th>\n",
       "      <th>MSFT</th>\n",
       "      <th>GOOGL</th>\n",
       "      <th>AMZN</th>\n",
       "    </tr>\n",
       "    <tr>\n",
       "      <th>Date</th>\n",
       "      <th></th>\n",
       "      <th></th>\n",
       "      <th></th>\n",
       "      <th></th>\n",
       "    </tr>\n",
       "  </thead>\n",
       "  <tbody>\n",
       "    <tr>\n",
       "      <th>1995-01-31</th>\n",
       "      <td>NaN</td>\n",
       "      <td>NaN</td>\n",
       "      <td>NaN</td>\n",
       "      <td>NaN</td>\n",
       "    </tr>\n",
       "    <tr>\n",
       "      <th>1995-02-28</th>\n",
       "      <td>-0.018981</td>\n",
       "      <td>0.061052</td>\n",
       "      <td>NaN</td>\n",
       "      <td>NaN</td>\n",
       "    </tr>\n",
       "    <tr>\n",
       "      <th>1995-03-31</th>\n",
       "      <td>-0.107597</td>\n",
       "      <td>0.128969</td>\n",
       "      <td>NaN</td>\n",
       "      <td>NaN</td>\n",
       "    </tr>\n",
       "    <tr>\n",
       "      <th>1995-04-30</th>\n",
       "      <td>0.085107</td>\n",
       "      <td>0.149386</td>\n",
       "      <td>NaN</td>\n",
       "      <td>NaN</td>\n",
       "    </tr>\n",
       "    <tr>\n",
       "      <th>1995-05-31</th>\n",
       "      <td>0.089615</td>\n",
       "      <td>0.035932</td>\n",
       "      <td>NaN</td>\n",
       "      <td>NaN</td>\n",
       "    </tr>\n",
       "    <tr>\n",
       "      <th>...</th>\n",
       "      <td>...</td>\n",
       "      <td>...</td>\n",
       "      <td>...</td>\n",
       "      <td>...</td>\n",
       "    </tr>\n",
       "    <tr>\n",
       "      <th>2023-03-31</th>\n",
       "      <td>0.118649</td>\n",
       "      <td>0.155882</td>\n",
       "      <td>0.151788</td>\n",
       "      <td>0.096148</td>\n",
       "    </tr>\n",
       "    <tr>\n",
       "      <th>2023-04-30</th>\n",
       "      <td>0.028987</td>\n",
       "      <td>0.065765</td>\n",
       "      <td>0.034802</td>\n",
       "      <td>0.020912</td>\n",
       "    </tr>\n",
       "    <tr>\n",
       "      <th>2023-05-31</th>\n",
       "      <td>0.046058</td>\n",
       "      <td>0.071106</td>\n",
       "      <td>0.144681</td>\n",
       "      <td>0.143480</td>\n",
       "    </tr>\n",
       "    <tr>\n",
       "      <th>2023-06-30</th>\n",
       "      <td>0.094330</td>\n",
       "      <td>0.036999</td>\n",
       "      <td>-0.025800</td>\n",
       "      <td>0.081108</td>\n",
       "    </tr>\n",
       "    <tr>\n",
       "      <th>2023-07-31</th>\n",
       "      <td>0.009589</td>\n",
       "      <td>-0.006372</td>\n",
       "      <td>0.107602</td>\n",
       "      <td>0.014192</td>\n",
       "    </tr>\n",
       "  </tbody>\n",
       "</table>\n",
       "<p>343 rows × 4 columns</p>\n",
       "</div>"
      ],
      "text/plain": [
       "                AAPL      MSFT     GOOGL      AMZN\n",
       "Date                                              \n",
       "1995-01-31       NaN       NaN       NaN       NaN\n",
       "1995-02-28 -0.018981  0.061052       NaN       NaN\n",
       "1995-03-31 -0.107597  0.128969       NaN       NaN\n",
       "1995-04-30  0.085107  0.149386       NaN       NaN\n",
       "1995-05-31  0.089615  0.035932       NaN       NaN\n",
       "...              ...       ...       ...       ...\n",
       "2023-03-31  0.118649  0.155882  0.151788  0.096148\n",
       "2023-04-30  0.028987  0.065765  0.034802  0.020912\n",
       "2023-05-31  0.046058  0.071106  0.144681  0.143480\n",
       "2023-06-30  0.094330  0.036999 -0.025800  0.081108\n",
       "2023-07-31  0.009589 -0.006372  0.107602  0.014192\n",
       "\n",
       "[343 rows x 4 columns]"
      ]
     },
     "execution_count": 10,
     "metadata": {},
     "output_type": "execute_result"
    }
   ],
   "source": [
    "returns"
   ]
  },
  {
   "cell_type": "code",
   "execution_count": 11,
   "metadata": {},
   "outputs": [],
   "source": [
    "returns.to_csv('returns.csv')"
   ]
  },
  {
   "cell_type": "code",
   "execution_count": 12,
   "metadata": {},
   "outputs": [
    {
     "data": {
      "text/plain": [
       "<Axes: xlabel='Date'>"
      ]
     },
     "execution_count": 12,
     "metadata": {},
     "output_type": "execute_result"
    },
    {
     "data": {
      "image/png": "[encoded data removed]",
      "text/plain": [
       "<Figure size 640x480 with 1 Axes>"
      ]
     },
     "metadata": {},
     "output_type": "display_data"
    }
   ],
   "source": [
    "returns.plot()"
   ]
  },
  {
   "cell_type": "code",
   "execution_count": 13,
   "metadata": {},
   "outputs": [],
   "source": [
    "def drawdown(return_series: pd.Series):\n",
    "    \"\"\"\n",
    "    Takes a times series of asset returns\n",
    "    Computes and returns a DataFrame that contains:\n",
    "    the wealth index\n",
    "    the previous peaks\n",
    "    percent drawdowns\n",
    "    \"\"\"\n",
    "\n",
    "    wealth_index = 1000*(1+return_series).cumprod()\n",
    "    previous_peaks = wealth_index.cummax()\n",
    "    drawdowns = (wealth_index - previous_peaks)/previous_peaks\n",
    "\n",
    "    return pd.DataFrame({\n",
    "        \"Wealth\": wealth_index,\n",
    "        \"Peaks\": previous_peaks,\n",
    "        \"Drawdown\": drawdowns\n",
    "    })"
   ]
  },
  {
   "cell_type": "code",
   "execution_count": 14,
   "metadata": {},
   "outputs": [
    {
     "data": {
      "text/plain": [
       "<Axes: xlabel='Date'>"
      ]
     },
     "execution_count": 14,
     "metadata": {},
     "output_type": "execute_result"
    },
    {
     "data": {
      "image/png": "[encoded data removed]",
      "text/plain": [
       "<Figure size 1200x600 with 1 Axes>"
      ]
     },
     "metadata": {},
     "output_type": "display_data"
    }
   ],
   "source": [
    "drawdown(returns[\"MSFT\"]).plot.line(figsize =(12, 6))"
   ]
  },
  {
   "cell_type": "code",
   "execution_count": 15,
   "metadata": {},
   "outputs": [
    {
     "data": {
      "text/plain": [
       "AAPL     0.174098\n",
       "MSFT     0.109450\n",
       "GOOGL    0.098899\n",
       "AMZN     0.091647\n",
       "dtype: float64"
      ]
     },
     "execution_count": 15,
     "metadata": {},
     "output_type": "execute_result"
    }
   ],
   "source": [
    "rk.var_gaussian(returns, modified=True)"
   ]
  },
  {
   "cell_type": "code",
   "execution_count": 16,
   "metadata": {},
   "outputs": [
    {
     "data": {
      "text/plain": [
       "<Axes: >"
      ]
     },
     "execution_count": 16,
     "metadata": {},
     "output_type": "execute_result"
    },
    {
     "data": {
      "image/png": "[encoded data removed]",
      "text/plain": [
       "<Figure size 640x480 with 1 Axes>"
      ]
     },
     "metadata": {},
     "output_type": "display_data"
    }
   ],
   "source": [
    "rk.var_gaussian(returns, modified=True).plot.bar()"
   ]
  },
  {
   "cell_type": "markdown",
   "metadata": {},
   "source": [
    "- Positive Sharpe Ratio: A positive Sharpe ratio means that the investment or portfolio is generating returns higher than the risk-free rate. The higher the Sharpe ratio, the better the risk-adjusted performance.\n",
    "- Negative Sharpe Ratio: A negative Sharpe ratio implies that the investment is not generating enough returns to compensate for the risk taken. In this case, the investment is not performing well relative to the risk-free rate.\n",
    "- Comparison: When comparing different investments or portfolios, the one with a higher Sharpe ratio is preferred as it provides better returns for the amount of risk taken."
   ]
  },
  {
   "cell_type": "code",
   "execution_count": 17,
   "metadata": {},
   "outputs": [
    {
     "data": {
      "text/plain": [
       "<Axes: >"
      ]
     },
     "execution_count": 17,
     "metadata": {},
     "output_type": "execute_result"
    },
    {
     "data": {
      "image/png": "[encoded data removed]",
      "text/plain": [
       "<Figure size 640x480 with 1 Axes>"
      ]
     },
     "metadata": {},
     "output_type": "display_data"
    }
   ],
   "source": [
    "rk.sharpe_ratio(returns, 0, 12).plot.bar()"
   ]
  },
  {
   "cell_type": "code",
   "execution_count": 18,
   "metadata": {},
   "outputs": [],
   "source": [
    "ar = rk.annualize_rets(returns, 12)"
   ]
  },
  {
   "cell_type": "code",
   "execution_count": 20,
   "metadata": {},
   "outputs": [
    {
     "data": {
      "text/plain": [
       "<Axes: >"
      ]
     },
     "execution_count": 20,
     "metadata": {},
     "output_type": "execute_result"
    },
    {
     "data": {
      "image/png": "[encoded data removed]",
      "text/plain": [
       "<Figure size 640x480 with 1 Axes>"
      ]
     },
     "metadata": {},
     "output_type": "display_data"
    }
   ],
   "source": [
    "ar.plot.bar()"
   ]
  },
  {
   "cell_type": "code",
   "execution_count": 22,
   "metadata": {},
   "outputs": [],
   "source": [
    "cov = returns.cov()"
   ]
  },
  {
   "cell_type": "code",
   "execution_count": 23,
   "metadata": {},
   "outputs": [
    {
     "data": {
      "text/html": [
       "<div>\n",
       "<style scoped>\n",
       "    .dataframe tbody tr th:only-of-type {\n",
       "        vertical-align: middle;\n",
       "    }\n",
       "\n",
       "    .dataframe tbody tr th {\n",
       "        vertical-align: top;\n",
       "    }\n",
       "\n",
       "    .dataframe thead th {\n",
       "        text-align: right;\n",
       "    }\n",
       "</style>\n",
       "<table border=\"1\" class=\"dataframe\">\n",
       "  <thead>\n",
       "    <tr style=\"text-align: right;\">\n",
       "      <th></th>\n",
       "      <th>AAPL</th>\n",
       "      <th>MSFT</th>\n",
       "      <th>GOOGL</th>\n",
       "      <th>AMZN</th>\n",
       "    </tr>\n",
       "  </thead>\n",
       "  <tbody>\n",
       "    <tr>\n",
       "      <th>AAPL</th>\n",
       "      <td>0.014184</td>\n",
       "      <td>0.003989</td>\n",
       "      <td>0.004232</td>\n",
       "      <td>0.006339</td>\n",
       "    </tr>\n",
       "    <tr>\n",
       "      <th>MSFT</th>\n",
       "      <td>0.003989</td>\n",
       "      <td>0.007547</td>\n",
       "      <td>0.002825</td>\n",
       "      <td>0.006210</td>\n",
       "    </tr>\n",
       "    <tr>\n",
       "      <th>GOOGL</th>\n",
       "      <td>0.004232</td>\n",
       "      <td>0.002825</td>\n",
       "      <td>0.007906</td>\n",
       "      <td>0.003707</td>\n",
       "    </tr>\n",
       "    <tr>\n",
       "      <th>AMZN</th>\n",
       "      <td>0.006339</td>\n",
       "      <td>0.006210</td>\n",
       "      <td>0.003707</td>\n",
       "      <td>0.028182</td>\n",
       "    </tr>\n",
       "  </tbody>\n",
       "</table>\n",
       "</div>"
      ],
      "text/plain": [
       "           AAPL      MSFT     GOOGL      AMZN\n",
       "AAPL   0.014184  0.003989  0.004232  0.006339\n",
       "MSFT   0.003989  0.007547  0.002825  0.006210\n",
       "GOOGL  0.004232  0.002825  0.007906  0.003707\n",
       "AMZN   0.006339  0.006210  0.003707  0.028182"
      ]
     },
     "execution_count": 23,
     "metadata": {},
     "output_type": "execute_result"
    }
   ],
   "source": [
    "cov"
   ]
  },
  {
   "cell_type": "code",
   "execution_count": 24,
   "metadata": {},
   "outputs": [
    {
     "data": {
      "text/plain": [
       "AAPL     0.254086\n",
       "MSFT     0.190610\n",
       "GOOGL    0.148055\n",
       "AMZN     0.298882\n",
       "dtype: float64"
      ]
     },
     "execution_count": 24,
     "metadata": {},
     "output_type": "execute_result"
    }
   ],
   "source": [
    "ar"
   ]
  },
  {
   "cell_type": "code",
   "execution_count": 27,
   "metadata": {},
   "outputs": [],
   "source": [
    "weights = np.repeat(1/4, 4)"
   ]
  },
  {
   "cell_type": "code",
   "execution_count": 28,
   "metadata": {},
   "outputs": [
    {
     "data": {
      "text/plain": [
       "0.2229082392049379"
      ]
     },
     "execution_count": 28,
     "metadata": {},
     "output_type": "execute_result"
    }
   ],
   "source": [
    "rk.portfolio_return(weights, ar)"
   ]
  },
  {
   "cell_type": "code",
   "execution_count": 29,
   "metadata": {},
   "outputs": [
    {
     "data": {
      "text/plain": [
       "0.08382409791499014"
      ]
     },
     "execution_count": 29,
     "metadata": {},
     "output_type": "execute_result"
    }
   ],
   "source": [
    "rk.portfolio_vol(weights, cov)"
   ]
  },
  {
   "cell_type": "code",
   "execution_count": 30,
   "metadata": {},
   "outputs": [
    {
     "data": {
      "text/plain": [
       "<Axes: xlabel='Volatility'>"
      ]
     },
     "execution_count": 30,
     "metadata": {},
     "output_type": "execute_result"
    },
    {
     "data": {
      "image/png": "[encoded data removed]",
      "text/plain": [
       "<Figure size 640x480 with 1 Axes>"
      ]
     },
     "metadata": {},
     "output_type": "display_data"
    }
   ],
   "source": [
    "rk.plot_ef(20, ar, cov)"
   ]
  },
  {
   "cell_type": "code",
   "execution_count": 31,
   "metadata": {},
   "outputs": [
    {
     "data": {
      "text/plain": [
       "(0.0, 0.17267994759635752)"
      ]
     },
     "execution_count": 31,
     "metadata": {},
     "output_type": "execute_result"
    },
    {
     "data": {
      "image/png": "[encoded data removed]",
      "text/plain": [
       "<Figure size 640x480 with 1 Axes>"
      ]
     },
     "metadata": {},
     "output_type": "display_data"
    }
   ],
   "source": [
    "ax = rk.plot_ef(20, ar, cov)\n",
    "ax.set_xlim(left = 0)"
   ]
  },
  {
   "cell_type": "code",
   "execution_count": 32,
   "metadata": {},
   "outputs": [
    {
     "data": {
      "text/plain": [
       "<Axes: xlabel='Volatility'>"
      ]
     },
     "execution_count": 32,
     "metadata": {},
     "output_type": "execute_result"
    },
    {
     "data": {
      "image/png": "[encoded data removed]",
      "text/plain": [
       "<Figure size 640x480 with 1 Axes>"
      ]
     },
     "metadata": {},
     "output_type": "display_data"
    }
   ],
   "source": [
    "rk.plot_ef(20, ar, cov, show_cml=True, show_ew=True, show_gmv=True)"
   ]
  },
  {
   "cell_type": "code",
   "execution_count": 4,
   "metadata": {},
   "outputs": [
    {
     "name": "stdout",
     "output_type": "stream",
     "text": [
      "Year: 2023, Market Cap: $2.910 T\n",
      "Year: 2022, Market Cap: $2.066 T\n",
      "Year: 2021, Market Cap: $2.901 T\n",
      "Year: 2020, Market Cap: $2.255 T\n",
      "Year: 2019, Market Cap: $1.287 T\n",
      "Year: 2018, Market Cap: $746.07 B\n",
      "Year: 2017, Market Cap: $860.88 B\n",
      "Year: 2016, Market Cap: $608.96 B\n",
      "Year: 2015, Market Cap: $583.61 B\n",
      "Year: 2014, Market Cap: $643.12 B\n",
      "Year: 2013, Market Cap: $500.74 B\n",
      "Year: 2012, Market Cap: $499.69 B\n",
      "Year: 2011, Market Cap: $377.51 B\n",
      "Year: 2010, Market Cap: $297.09 B\n",
      "Year: 2009, Market Cap: $190.98 B\n",
      "Year: 2008, Market Cap: $75.99 B\n",
      "Year: 2007, Market Cap: $174.03 B\n",
      "Year: 2006, Market Cap: $72.98 B\n",
      "Year: 2005, Market Cap: $60.79 B\n",
      "Year: 2004, Market Cap: $26.05 B\n",
      "Year: 2003, Market Cap: $7.88 B\n",
      "Year: 2002, Market Cap: $5.16 B\n",
      "Year: 2001, Market Cap: $7.71 B\n"
     ]
    }
   ],
   "source": [
    "import requests\n",
    "from bs4 import BeautifulSoup\n",
    "\n",
    "# Send a GET request to the URL\n",
    "url = \"https://companiesmarketcap.com/apple/marketcap/\"\n",
    "response = requests.get(url)\n",
    "\n",
    "# Parse the HTML content using BeautifulSoup\n",
    "soup = BeautifulSoup(response.content, \"html.parser\")\n",
    "\n",
    "# Find the table containing the market cap data\n",
    "table = soup.find(\"table\", {\"class\": \"table\"})\n",
    "\n",
    "# Initialize empty lists to store the data\n",
    "companies = []\n",
    "market_caps = []\n",
    "\n",
    "# Loop through each row in the table\n",
    "for row in table.find_all(\"tr\")[1:]:  # Skip the header row (index 0)\n",
    "    # Extract the company name and market cap from the row\n",
    "    company = row.find(\"td\").text.strip()\n",
    "    market_cap = row.find_all(\"td\")[1].text.strip()\n",
    "\n",
    "    # Append the data to the lists\n",
    "    companies.append(company)\n",
    "    market_caps.append(market_cap)\n",
    "\n",
    "# Print the data\n",
    "for company, market_cap in zip(companies, market_caps):\n",
    "    print(f\"Year: {company}, Market Cap: {market_cap}\")\n"
   ]
  },
  {
   "cell_type": "code",
   "execution_count": 2,
   "metadata": {},
   "outputs": [],
   "source": [
    "import m_cap\n",
    "%load_ext autoreload\n",
    "%autoreload 2\n"
   ]
  },
  {
   "cell_type": "code",
   "execution_count": 22,
   "metadata": {},
   "outputs": [
    {
     "data": {
      "text/plain": [
       "0     $1.653 T\n",
       "1     $1.145 T\n",
       "2     $1.917 T\n",
       "3     $1.185 T\n",
       "4    $921.13 B\n",
       "5    $723.55 B\n",
       "6    $729.45 B\n",
       "7    $539.06 B\n",
       "8    $528.16 B\n",
       "9    $359.50 B\n",
       "Name: GOOGL, dtype: object"
      ]
     },
     "execution_count": 22,
     "metadata": {},
     "output_type": "execute_result"
    }
   ],
   "source": [
    "db = m_cap.get_m_caps(name='alphabet-google', ticker='GOOGL')\n",
    "db.to_csv('market_caps.csv', index=False)\n",
    "db['GOOGL']"
   ]
  },
  {
   "cell_type": "code",
   "execution_count": 25,
   "metadata": {},
   "outputs": [
    {
     "data": {
      "text/html": [
       "<div>\n",
       "<style scoped>\n",
       "    .dataframe tbody tr th:only-of-type {\n",
       "        vertical-align: middle;\n",
       "    }\n",
       "\n",
       "    .dataframe tbody tr th {\n",
       "        vertical-align: top;\n",
       "    }\n",
       "\n",
       "    .dataframe thead th {\n",
       "        text-align: right;\n",
       "    }\n",
       "</style>\n",
       "<table border=\"1\" class=\"dataframe\">\n",
       "  <thead>\n",
       "    <tr style=\"text-align: right;\">\n",
       "      <th></th>\n",
       "      <th>Year</th>\n",
       "      <th>GOOGL</th>\n",
       "      <th>AAPL</th>\n",
       "    </tr>\n",
       "  </thead>\n",
       "  <tbody>\n",
       "    <tr>\n",
       "      <th>0</th>\n",
       "      <td>2023</td>\n",
       "      <td>$1.653 T</td>\n",
       "      <td>$2.909 T</td>\n",
       "    </tr>\n",
       "    <tr>\n",
       "      <th>1</th>\n",
       "      <td>2022</td>\n",
       "      <td>$1.145 T</td>\n",
       "      <td>$2.066 T</td>\n",
       "    </tr>\n",
       "    <tr>\n",
       "      <th>2</th>\n",
       "      <td>2021</td>\n",
       "      <td>$1.917 T</td>\n",
       "      <td>$2.901 T</td>\n",
       "    </tr>\n",
       "    <tr>\n",
       "      <th>3</th>\n",
       "      <td>2020</td>\n",
       "      <td>$1.185 T</td>\n",
       "      <td>$2.255 T</td>\n",
       "    </tr>\n",
       "    <tr>\n",
       "      <th>4</th>\n",
       "      <td>2019</td>\n",
       "      <td>$921.13 B</td>\n",
       "      <td>$1.287 T</td>\n",
       "    </tr>\n",
       "    <tr>\n",
       "      <th>5</th>\n",
       "      <td>2018</td>\n",
       "      <td>$723.55 B</td>\n",
       "      <td>$746.07 B</td>\n",
       "    </tr>\n",
       "    <tr>\n",
       "      <th>6</th>\n",
       "      <td>2017</td>\n",
       "      <td>$729.45 B</td>\n",
       "      <td>$860.88 B</td>\n",
       "    </tr>\n",
       "    <tr>\n",
       "      <th>7</th>\n",
       "      <td>2016</td>\n",
       "      <td>$539.06 B</td>\n",
       "      <td>$608.96 B</td>\n",
       "    </tr>\n",
       "    <tr>\n",
       "      <th>8</th>\n",
       "      <td>2015</td>\n",
       "      <td>$528.16 B</td>\n",
       "      <td>$583.61 B</td>\n",
       "    </tr>\n",
       "    <tr>\n",
       "      <th>9</th>\n",
       "      <td>2014</td>\n",
       "      <td>$359.50 B</td>\n",
       "      <td>$643.12 B</td>\n",
       "    </tr>\n",
       "    <tr>\n",
       "      <th>10</th>\n",
       "      <td>2013</td>\n",
       "      <td>NaN</td>\n",
       "      <td>$500.74 B</td>\n",
       "    </tr>\n",
       "    <tr>\n",
       "      <th>11</th>\n",
       "      <td>2012</td>\n",
       "      <td>NaN</td>\n",
       "      <td>$499.69 B</td>\n",
       "    </tr>\n",
       "    <tr>\n",
       "      <th>12</th>\n",
       "      <td>2010</td>\n",
       "      <td>NaN</td>\n",
       "      <td>$377.51 B</td>\n",
       "    </tr>\n",
       "    <tr>\n",
       "      <th>13</th>\n",
       "      <td>2009</td>\n",
       "      <td>NaN</td>\n",
       "      <td>$297.09 B</td>\n",
       "    </tr>\n",
       "    <tr>\n",
       "      <th>14</th>\n",
       "      <td>2008</td>\n",
       "      <td>NaN</td>\n",
       "      <td>$190.98 B</td>\n",
       "    </tr>\n",
       "    <tr>\n",
       "      <th>15</th>\n",
       "      <td>2007</td>\n",
       "      <td>NaN</td>\n",
       "      <td>$75.99 B</td>\n",
       "    </tr>\n",
       "    <tr>\n",
       "      <th>16</th>\n",
       "      <td>2006</td>\n",
       "      <td>NaN</td>\n",
       "      <td>$174.03 B</td>\n",
       "    </tr>\n",
       "    <tr>\n",
       "      <th>17</th>\n",
       "      <td>2005</td>\n",
       "      <td>NaN</td>\n",
       "      <td>$72.98 B</td>\n",
       "    </tr>\n",
       "    <tr>\n",
       "      <th>18</th>\n",
       "      <td>2004</td>\n",
       "      <td>NaN</td>\n",
       "      <td>$60.79 B</td>\n",
       "    </tr>\n",
       "    <tr>\n",
       "      <th>19</th>\n",
       "      <td>2003</td>\n",
       "      <td>NaN</td>\n",
       "      <td>$26.05 B</td>\n",
       "    </tr>\n",
       "    <tr>\n",
       "      <th>20</th>\n",
       "      <td>2001</td>\n",
       "      <td>NaN</td>\n",
       "      <td>$7.88 B</td>\n",
       "    </tr>\n",
       "    <tr>\n",
       "      <th>21</th>\n",
       "      <td>2000</td>\n",
       "      <td>NaN</td>\n",
       "      <td>$5.16 B</td>\n",
       "    </tr>\n",
       "    <tr>\n",
       "      <th>22</th>\n",
       "      <td>1999</td>\n",
       "      <td>NaN</td>\n",
       "      <td>$7.71 B</td>\n",
       "    </tr>\n",
       "    <tr>\n",
       "      <th>23</th>\n",
       "      <td>1998</td>\n",
       "      <td>NaN</td>\n",
       "      <td>NaN</td>\n",
       "    </tr>\n",
       "    <tr>\n",
       "      <th>24</th>\n",
       "      <td>1997</td>\n",
       "      <td>NaN</td>\n",
       "      <td>NaN</td>\n",
       "    </tr>\n",
       "  </tbody>\n",
       "</table>\n",
       "</div>"
      ],
      "text/plain": [
       "    Year      GOOGL       AAPL\n",
       "0   2023   $1.653 T   $2.909 T\n",
       "1   2022   $1.145 T   $2.066 T\n",
       "2   2021   $1.917 T   $2.901 T\n",
       "3   2020   $1.185 T   $2.255 T\n",
       "4   2019  $921.13 B   $1.287 T\n",
       "5   2018  $723.55 B  $746.07 B\n",
       "6   2017  $729.45 B  $860.88 B\n",
       "7   2016  $539.06 B  $608.96 B\n",
       "8   2015  $528.16 B  $583.61 B\n",
       "9   2014  $359.50 B  $643.12 B\n",
       "10  2013        NaN  $500.74 B\n",
       "11  2012        NaN  $499.69 B\n",
       "12  2010        NaN  $377.51 B\n",
       "13  2009        NaN  $297.09 B\n",
       "14  2008        NaN  $190.98 B\n",
       "15  2007        NaN   $75.99 B\n",
       "16  2006        NaN  $174.03 B\n",
       "17  2005        NaN   $72.98 B\n",
       "18  2004        NaN   $60.79 B\n",
       "19  2003        NaN   $26.05 B\n",
       "20  2001        NaN    $7.88 B\n",
       "21  2000        NaN    $5.16 B\n",
       "22  1999        NaN    $7.71 B\n",
       "23  1998        NaN        NaN\n",
       "24  1997        NaN        NaN"
      ]
     },
     "execution_count": 25,
     "metadata": {},
     "output_type": "execute_result"
    }
   ],
   "source": [
    "m_cap.m_cap_db(name=\"apple\", ticker=\"AAPL\")"
   ]
  },
  {
   "cell_type": "code",
   "execution_count": 26,
   "metadata": {},
   "outputs": [
    {
     "data": {
      "text/html": [
       "<div>\n",
       "<style scoped>\n",
       "    .dataframe tbody tr th:only-of-type {\n",
       "        vertical-align: middle;\n",
       "    }\n",
       "\n",
       "    .dataframe tbody tr th {\n",
       "        vertical-align: top;\n",
       "    }\n",
       "\n",
       "    .dataframe thead th {\n",
       "        text-align: right;\n",
       "    }\n",
       "</style>\n",
       "<table border=\"1\" class=\"dataframe\">\n",
       "  <thead>\n",
       "    <tr style=\"text-align: right;\">\n",
       "      <th></th>\n",
       "      <th>Year</th>\n",
       "      <th>GOOGL</th>\n",
       "      <th>AAPL</th>\n",
       "      <th>MSFT</th>\n",
       "    </tr>\n",
       "  </thead>\n",
       "  <tbody>\n",
       "    <tr>\n",
       "      <th>0</th>\n",
       "      <td>2023</td>\n",
       "      <td>$1.653 T</td>\n",
       "      <td>$2.909 T</td>\n",
       "      <td>$2.473 T</td>\n",
       "    </tr>\n",
       "    <tr>\n",
       "      <th>1</th>\n",
       "      <td>2022</td>\n",
       "      <td>$1.145 T</td>\n",
       "      <td>$2.066 T</td>\n",
       "      <td>$1.787 T</td>\n",
       "    </tr>\n",
       "    <tr>\n",
       "      <th>2</th>\n",
       "      <td>2021</td>\n",
       "      <td>$1.917 T</td>\n",
       "      <td>$2.901 T</td>\n",
       "      <td>$2.522 T</td>\n",
       "    </tr>\n",
       "    <tr>\n",
       "      <th>3</th>\n",
       "      <td>2020</td>\n",
       "      <td>$1.185 T</td>\n",
       "      <td>$2.255 T</td>\n",
       "      <td>$1.681 T</td>\n",
       "    </tr>\n",
       "    <tr>\n",
       "      <th>4</th>\n",
       "      <td>2019</td>\n",
       "      <td>$921.13 B</td>\n",
       "      <td>$1.287 T</td>\n",
       "      <td>$1.200 T</td>\n",
       "    </tr>\n",
       "    <tr>\n",
       "      <th>5</th>\n",
       "      <td>2018</td>\n",
       "      <td>$723.55 B</td>\n",
       "      <td>$746.07 B</td>\n",
       "      <td>$780.36 B</td>\n",
       "    </tr>\n",
       "    <tr>\n",
       "      <th>6</th>\n",
       "      <td>2017</td>\n",
       "      <td>$729.45 B</td>\n",
       "      <td>$860.88 B</td>\n",
       "      <td>$659.90 B</td>\n",
       "    </tr>\n",
       "    <tr>\n",
       "      <th>7</th>\n",
       "      <td>2016</td>\n",
       "      <td>$539.06 B</td>\n",
       "      <td>$608.96 B</td>\n",
       "      <td>$483.16 B</td>\n",
       "    </tr>\n",
       "    <tr>\n",
       "      <th>8</th>\n",
       "      <td>2015</td>\n",
       "      <td>$528.16 B</td>\n",
       "      <td>$583.61 B</td>\n",
       "      <td>$439.67 B</td>\n",
       "    </tr>\n",
       "    <tr>\n",
       "      <th>9</th>\n",
       "      <td>2014</td>\n",
       "      <td>$359.50 B</td>\n",
       "      <td>$643.12 B</td>\n",
       "      <td>$381.72 B</td>\n",
       "    </tr>\n",
       "    <tr>\n",
       "      <th>10</th>\n",
       "      <td>2013</td>\n",
       "      <td>NaN</td>\n",
       "      <td>$500.74 B</td>\n",
       "      <td>$310.50 B</td>\n",
       "    </tr>\n",
       "    <tr>\n",
       "      <th>11</th>\n",
       "      <td>2012</td>\n",
       "      <td>NaN</td>\n",
       "      <td>$499.69 B</td>\n",
       "      <td>$223.66 B</td>\n",
       "    </tr>\n",
       "    <tr>\n",
       "      <th>12</th>\n",
       "      <td>2010</td>\n",
       "      <td>NaN</td>\n",
       "      <td>$377.51 B</td>\n",
       "      <td>$218.38 B</td>\n",
       "    </tr>\n",
       "    <tr>\n",
       "      <th>13</th>\n",
       "      <td>2009</td>\n",
       "      <td>NaN</td>\n",
       "      <td>$297.09 B</td>\n",
       "      <td>$234.52 B</td>\n",
       "    </tr>\n",
       "    <tr>\n",
       "      <th>14</th>\n",
       "      <td>2008</td>\n",
       "      <td>NaN</td>\n",
       "      <td>$190.98 B</td>\n",
       "      <td>$268.55 B</td>\n",
       "    </tr>\n",
       "    <tr>\n",
       "      <th>15</th>\n",
       "      <td>2007</td>\n",
       "      <td>NaN</td>\n",
       "      <td>$75.99 B</td>\n",
       "      <td>$172.92 B</td>\n",
       "    </tr>\n",
       "    <tr>\n",
       "      <th>16</th>\n",
       "      <td>2006</td>\n",
       "      <td>NaN</td>\n",
       "      <td>$174.03 B</td>\n",
       "      <td>$332.11 B</td>\n",
       "    </tr>\n",
       "    <tr>\n",
       "      <th>17</th>\n",
       "      <td>2005</td>\n",
       "      <td>NaN</td>\n",
       "      <td>$72.98 B</td>\n",
       "      <td>$291.94 B</td>\n",
       "    </tr>\n",
       "    <tr>\n",
       "      <th>18</th>\n",
       "      <td>2004</td>\n",
       "      <td>NaN</td>\n",
       "      <td>$60.79 B</td>\n",
       "      <td>$271.54 B</td>\n",
       "    </tr>\n",
       "    <tr>\n",
       "      <th>19</th>\n",
       "      <td>2003</td>\n",
       "      <td>NaN</td>\n",
       "      <td>$26.05 B</td>\n",
       "      <td>$290.71 B</td>\n",
       "    </tr>\n",
       "    <tr>\n",
       "      <th>20</th>\n",
       "      <td>2001</td>\n",
       "      <td>NaN</td>\n",
       "      <td>$7.88 B</td>\n",
       "      <td>$295.29 B</td>\n",
       "    </tr>\n",
       "    <tr>\n",
       "      <th>21</th>\n",
       "      <td>2000</td>\n",
       "      <td>NaN</td>\n",
       "      <td>$5.16 B</td>\n",
       "      <td>$276.63 B</td>\n",
       "    </tr>\n",
       "    <tr>\n",
       "      <th>22</th>\n",
       "      <td>1999</td>\n",
       "      <td>NaN</td>\n",
       "      <td>$7.71 B</td>\n",
       "      <td>$358.05 B</td>\n",
       "    </tr>\n",
       "    <tr>\n",
       "      <th>23</th>\n",
       "      <td>1998</td>\n",
       "      <td>NaN</td>\n",
       "      <td>NaN</td>\n",
       "      <td>NaN</td>\n",
       "    </tr>\n",
       "    <tr>\n",
       "      <th>24</th>\n",
       "      <td>1997</td>\n",
       "      <td>NaN</td>\n",
       "      <td>NaN</td>\n",
       "      <td>NaN</td>\n",
       "    </tr>\n",
       "  </tbody>\n",
       "</table>\n",
       "</div>"
      ],
      "text/plain": [
       "    Year      GOOGL       AAPL       MSFT\n",
       "0   2023   $1.653 T   $2.909 T   $2.473 T\n",
       "1   2022   $1.145 T   $2.066 T   $1.787 T\n",
       "2   2021   $1.917 T   $2.901 T   $2.522 T\n",
       "3   2020   $1.185 T   $2.255 T   $1.681 T\n",
       "4   2019  $921.13 B   $1.287 T   $1.200 T\n",
       "5   2018  $723.55 B  $746.07 B  $780.36 B\n",
       "6   2017  $729.45 B  $860.88 B  $659.90 B\n",
       "7   2016  $539.06 B  $608.96 B  $483.16 B\n",
       "8   2015  $528.16 B  $583.61 B  $439.67 B\n",
       "9   2014  $359.50 B  $643.12 B  $381.72 B\n",
       "10  2013        NaN  $500.74 B  $310.50 B\n",
       "11  2012        NaN  $499.69 B  $223.66 B\n",
       "12  2010        NaN  $377.51 B  $218.38 B\n",
       "13  2009        NaN  $297.09 B  $234.52 B\n",
       "14  2008        NaN  $190.98 B  $268.55 B\n",
       "15  2007        NaN   $75.99 B  $172.92 B\n",
       "16  2006        NaN  $174.03 B  $332.11 B\n",
       "17  2005        NaN   $72.98 B  $291.94 B\n",
       "18  2004        NaN   $60.79 B  $271.54 B\n",
       "19  2003        NaN   $26.05 B  $290.71 B\n",
       "20  2001        NaN    $7.88 B  $295.29 B\n",
       "21  2000        NaN    $5.16 B  $276.63 B\n",
       "22  1999        NaN    $7.71 B  $358.05 B\n",
       "23  1998        NaN        NaN        NaN\n",
       "24  1997        NaN        NaN        NaN"
      ]
     },
     "execution_count": 26,
     "metadata": {},
     "output_type": "execute_result"
    }
   ],
   "source": [
    "m_cap.m_cap_db(name=\"microsoft\", ticker=\"MSFT\")"
   ]
  },
  {
   "cell_type": "code",
   "execution_count": 27,
   "metadata": {},
   "outputs": [
    {
     "data": {
      "text/html": [
       "<div>\n",
       "<style scoped>\n",
       "    .dataframe tbody tr th:only-of-type {\n",
       "        vertical-align: middle;\n",
       "    }\n",
       "\n",
       "    .dataframe tbody tr th {\n",
       "        vertical-align: top;\n",
       "    }\n",
       "\n",
       "    .dataframe thead th {\n",
       "        text-align: right;\n",
       "    }\n",
       "</style>\n",
       "<table border=\"1\" class=\"dataframe\">\n",
       "  <thead>\n",
       "    <tr style=\"text-align: right;\">\n",
       "      <th></th>\n",
       "      <th>Year</th>\n",
       "      <th>GOOGL</th>\n",
       "      <th>AAPL</th>\n",
       "      <th>MSFT</th>\n",
       "      <th>AMZN</th>\n",
       "    </tr>\n",
       "  </thead>\n",
       "  <tbody>\n",
       "    <tr>\n",
       "      <th>0</th>\n",
       "      <td>2023</td>\n",
       "      <td>$1.653 T</td>\n",
       "      <td>$2.909 T</td>\n",
       "      <td>$2.473 T</td>\n",
       "      <td>$1.464 T</td>\n",
       "    </tr>\n",
       "    <tr>\n",
       "      <th>1</th>\n",
       "      <td>2022</td>\n",
       "      <td>$1.145 T</td>\n",
       "      <td>$2.066 T</td>\n",
       "      <td>$1.787 T</td>\n",
       "      <td>$856.94 B</td>\n",
       "    </tr>\n",
       "    <tr>\n",
       "      <th>2</th>\n",
       "      <td>2021</td>\n",
       "      <td>$1.917 T</td>\n",
       "      <td>$2.901 T</td>\n",
       "      <td>$2.522 T</td>\n",
       "      <td>$1.691 T</td>\n",
       "    </tr>\n",
       "    <tr>\n",
       "      <th>3</th>\n",
       "      <td>2020</td>\n",
       "      <td>$1.185 T</td>\n",
       "      <td>$2.255 T</td>\n",
       "      <td>$1.681 T</td>\n",
       "      <td>$1.634 T</td>\n",
       "    </tr>\n",
       "    <tr>\n",
       "      <th>4</th>\n",
       "      <td>2019</td>\n",
       "      <td>$921.13 B</td>\n",
       "      <td>$1.287 T</td>\n",
       "      <td>$1.200 T</td>\n",
       "      <td>$920.22 B</td>\n",
       "    </tr>\n",
       "    <tr>\n",
       "      <th>5</th>\n",
       "      <td>2018</td>\n",
       "      <td>$723.55 B</td>\n",
       "      <td>$746.07 B</td>\n",
       "      <td>$780.36 B</td>\n",
       "      <td>$737.46 B</td>\n",
       "    </tr>\n",
       "    <tr>\n",
       "      <th>6</th>\n",
       "      <td>2017</td>\n",
       "      <td>$729.45 B</td>\n",
       "      <td>$860.88 B</td>\n",
       "      <td>$659.90 B</td>\n",
       "      <td>$563.53 B</td>\n",
       "    </tr>\n",
       "    <tr>\n",
       "      <th>7</th>\n",
       "      <td>2016</td>\n",
       "      <td>$539.06 B</td>\n",
       "      <td>$608.96 B</td>\n",
       "      <td>$483.16 B</td>\n",
       "      <td>$356.31 B</td>\n",
       "    </tr>\n",
       "    <tr>\n",
       "      <th>8</th>\n",
       "      <td>2015</td>\n",
       "      <td>$528.16 B</td>\n",
       "      <td>$583.61 B</td>\n",
       "      <td>$439.67 B</td>\n",
       "      <td>$318.34 B</td>\n",
       "    </tr>\n",
       "    <tr>\n",
       "      <th>9</th>\n",
       "      <td>2014</td>\n",
       "      <td>$359.50 B</td>\n",
       "      <td>$643.12 B</td>\n",
       "      <td>$381.72 B</td>\n",
       "      <td>$144.31 B</td>\n",
       "    </tr>\n",
       "    <tr>\n",
       "      <th>10</th>\n",
       "      <td>2013</td>\n",
       "      <td>NaN</td>\n",
       "      <td>$500.74 B</td>\n",
       "      <td>$310.50 B</td>\n",
       "      <td>$183.04 B</td>\n",
       "    </tr>\n",
       "    <tr>\n",
       "      <th>11</th>\n",
       "      <td>2012</td>\n",
       "      <td>NaN</td>\n",
       "      <td>$499.69 B</td>\n",
       "      <td>$223.66 B</td>\n",
       "      <td>$113.89 B</td>\n",
       "    </tr>\n",
       "    <tr>\n",
       "      <th>12</th>\n",
       "      <td>2010</td>\n",
       "      <td>NaN</td>\n",
       "      <td>$377.51 B</td>\n",
       "      <td>$218.38 B</td>\n",
       "      <td>$78.71 B</td>\n",
       "    </tr>\n",
       "    <tr>\n",
       "      <th>13</th>\n",
       "      <td>2009</td>\n",
       "      <td>NaN</td>\n",
       "      <td>$297.09 B</td>\n",
       "      <td>$234.52 B</td>\n",
       "      <td>$81.18 B</td>\n",
       "    </tr>\n",
       "    <tr>\n",
       "      <th>14</th>\n",
       "      <td>2008</td>\n",
       "      <td>NaN</td>\n",
       "      <td>$190.98 B</td>\n",
       "      <td>$268.55 B</td>\n",
       "      <td>$59.72 B</td>\n",
       "    </tr>\n",
       "    <tr>\n",
       "      <th>15</th>\n",
       "      <td>2007</td>\n",
       "      <td>NaN</td>\n",
       "      <td>$75.99 B</td>\n",
       "      <td>$172.92 B</td>\n",
       "      <td>$21.99 B</td>\n",
       "    </tr>\n",
       "    <tr>\n",
       "      <th>16</th>\n",
       "      <td>2006</td>\n",
       "      <td>NaN</td>\n",
       "      <td>$174.03 B</td>\n",
       "      <td>$332.11 B</td>\n",
       "      <td>$38.53 B</td>\n",
       "    </tr>\n",
       "    <tr>\n",
       "      <th>17</th>\n",
       "      <td>2005</td>\n",
       "      <td>NaN</td>\n",
       "      <td>$72.98 B</td>\n",
       "      <td>$291.94 B</td>\n",
       "      <td>$16.33 B</td>\n",
       "    </tr>\n",
       "    <tr>\n",
       "      <th>18</th>\n",
       "      <td>2004</td>\n",
       "      <td>NaN</td>\n",
       "      <td>$60.79 B</td>\n",
       "      <td>$271.54 B</td>\n",
       "      <td>$19.61 B</td>\n",
       "    </tr>\n",
       "    <tr>\n",
       "      <th>19</th>\n",
       "      <td>2003</td>\n",
       "      <td>NaN</td>\n",
       "      <td>$26.05 B</td>\n",
       "      <td>$290.71 B</td>\n",
       "      <td>$18.14 B</td>\n",
       "    </tr>\n",
       "    <tr>\n",
       "      <th>20</th>\n",
       "      <td>2001</td>\n",
       "      <td>NaN</td>\n",
       "      <td>$7.88 B</td>\n",
       "      <td>$295.29 B</td>\n",
       "      <td>$21.22 B</td>\n",
       "    </tr>\n",
       "    <tr>\n",
       "      <th>21</th>\n",
       "      <td>2000</td>\n",
       "      <td>NaN</td>\n",
       "      <td>$5.16 B</td>\n",
       "      <td>$276.63 B</td>\n",
       "      <td>$7.32 B</td>\n",
       "    </tr>\n",
       "    <tr>\n",
       "      <th>22</th>\n",
       "      <td>1999</td>\n",
       "      <td>NaN</td>\n",
       "      <td>$7.71 B</td>\n",
       "      <td>$358.05 B</td>\n",
       "      <td>$4.03 B</td>\n",
       "    </tr>\n",
       "    <tr>\n",
       "      <th>23</th>\n",
       "      <td>1998</td>\n",
       "      <td>NaN</td>\n",
       "      <td>NaN</td>\n",
       "      <td>NaN</td>\n",
       "      <td>NaN</td>\n",
       "    </tr>\n",
       "    <tr>\n",
       "      <th>24</th>\n",
       "      <td>1997</td>\n",
       "      <td>NaN</td>\n",
       "      <td>NaN</td>\n",
       "      <td>NaN</td>\n",
       "      <td>NaN</td>\n",
       "    </tr>\n",
       "  </tbody>\n",
       "</table>\n",
       "</div>"
      ],
      "text/plain": [
       "    Year      GOOGL       AAPL       MSFT       AMZN\n",
       "0   2023   $1.653 T   $2.909 T   $2.473 T   $1.464 T\n",
       "1   2022   $1.145 T   $2.066 T   $1.787 T  $856.94 B\n",
       "2   2021   $1.917 T   $2.901 T   $2.522 T   $1.691 T\n",
       "3   2020   $1.185 T   $2.255 T   $1.681 T   $1.634 T\n",
       "4   2019  $921.13 B   $1.287 T   $1.200 T  $920.22 B\n",
       "5   2018  $723.55 B  $746.07 B  $780.36 B  $737.46 B\n",
       "6   2017  $729.45 B  $860.88 B  $659.90 B  $563.53 B\n",
       "7   2016  $539.06 B  $608.96 B  $483.16 B  $356.31 B\n",
       "8   2015  $528.16 B  $583.61 B  $439.67 B  $318.34 B\n",
       "9   2014  $359.50 B  $643.12 B  $381.72 B  $144.31 B\n",
       "10  2013        NaN  $500.74 B  $310.50 B  $183.04 B\n",
       "11  2012        NaN  $499.69 B  $223.66 B  $113.89 B\n",
       "12  2010        NaN  $377.51 B  $218.38 B   $78.71 B\n",
       "13  2009        NaN  $297.09 B  $234.52 B   $81.18 B\n",
       "14  2008        NaN  $190.98 B  $268.55 B   $59.72 B\n",
       "15  2007        NaN   $75.99 B  $172.92 B   $21.99 B\n",
       "16  2006        NaN  $174.03 B  $332.11 B   $38.53 B\n",
       "17  2005        NaN   $72.98 B  $291.94 B   $16.33 B\n",
       "18  2004        NaN   $60.79 B  $271.54 B   $19.61 B\n",
       "19  2003        NaN   $26.05 B  $290.71 B   $18.14 B\n",
       "20  2001        NaN    $7.88 B  $295.29 B   $21.22 B\n",
       "21  2000        NaN    $5.16 B  $276.63 B    $7.32 B\n",
       "22  1999        NaN    $7.71 B  $358.05 B    $4.03 B\n",
       "23  1998        NaN        NaN        NaN        NaN\n",
       "24  1997        NaN        NaN        NaN        NaN"
      ]
     },
     "execution_count": 27,
     "metadata": {},
     "output_type": "execute_result"
    }
   ],
   "source": [
    "m_cap.m_cap_db(name=\"amazon\", ticker=\"AMZN\")"
   ]
  },
  {
   "cell_type": "code",
   "execution_count": null,
   "metadata": {},
   "outputs": [],
   "source": []
  }
 ],
 "metadata": {
  "kernelspec": {
   "display_name": "base",
   "language": "python",
   "name": "python3"
  },
  "language_info": {
   "codemirror_mode": {
    "name": "ipython",
    "version": 3
   },
   "file_extension": ".py",
   "mimetype": "text/x-python",
   "name": "python",
   "nbconvert_exporter": "python",
   "pygments_lexer": "ipython3",
   "version": "3.10.9"
  },
  "orig_nbformat": 4
 },
 "nbformat": 4,
 "nbformat_minor": 2
}
